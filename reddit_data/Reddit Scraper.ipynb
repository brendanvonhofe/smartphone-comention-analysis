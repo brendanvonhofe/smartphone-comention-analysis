{
 "cells": [
  {
   "cell_type": "code",
   "execution_count": 2,
   "metadata": {
    "collapsed": true
   },
   "outputs": [],
   "source": [
    "import praw\n",
    "\n",
    "reddit = praw.Reddit(client_id='EeFQfKoa6r8EOg',\n",
    "                     client_secret='Cz1CEKN_ZYf6t_CGWFG1z_vuWFQ',\n",
    "                     user_agent='python:com.example.redditscraper:v1.0.0 (by /u/btocoolman)')"
   ]
  },
  {
   "cell_type": "code",
   "execution_count": 10,
   "metadata": {},
   "outputs": [
    {
     "name": "stdout",
     "output_type": "stream",
     "text": [
      "{'_comments_by_id': {},\n",
      " '_fetched': False,\n",
      " '_flair': None,\n",
      " '_info_params': {},\n",
      " '_mod': None,\n",
      " '_reddit': <praw.reddit.Reddit object at 0x10bedf320>,\n",
      " 'approved_at_utc': None,\n",
      " 'approved_by': None,\n",
      " 'archived': False,\n",
      " 'author': Redditor(name='AutoModerator'),\n",
      " 'author_flair_css_class': None,\n",
      " 'author_flair_text': None,\n",
      " 'banned_at_utc': None,\n",
      " 'banned_by': None,\n",
      " 'brand_safe': True,\n",
      " 'can_gild': False,\n",
      " 'can_mod_post': False,\n",
      " 'clicked': False,\n",
      " 'comment_limit': 2048,\n",
      " 'comment_sort': 'best',\n",
      " 'contest_mode': False,\n",
      " 'created': 1522052241.0,\n",
      " 'created_utc': 1522023441.0,\n",
      " 'distinguished': 'moderator',\n",
      " 'domain': 'self.learnpython',\n",
      " 'downs': 0,\n",
      " 'edited': False,\n",
      " 'gilded': 0,\n",
      " 'hidden': False,\n",
      " 'hide_score': False,\n",
      " 'id': '874z5x',\n",
      " 'is_crosspostable': False,\n",
      " 'is_reddit_media_domain': False,\n",
      " 'is_self': True,\n",
      " 'is_video': False,\n",
      " 'likes': None,\n",
      " 'link_flair_css_class': None,\n",
      " 'link_flair_text': None,\n",
      " 'locked': False,\n",
      " 'media': None,\n",
      " 'media_embed': {},\n",
      " 'mod_note': None,\n",
      " 'mod_reason_by': None,\n",
      " 'mod_reason_title': None,\n",
      " 'mod_reports': [],\n",
      " 'name': 't3_874z5x',\n",
      " 'no_follow': True,\n",
      " 'num_comments': 34,\n",
      " 'num_crossposts': 0,\n",
      " 'num_reports': None,\n",
      " 'over_18': False,\n",
      " 'parent_whitelist_status': 'all_ads',\n",
      " 'permalink': '/r/learnpython/comments/874z5x/ask_anything_monday_weekly_thread/',\n",
      " 'pinned': False,\n",
      " 'quarantine': False,\n",
      " 'removal_reason': None,\n",
      " 'report_reasons': None,\n",
      " 'saved': False,\n",
      " 'score': 9,\n",
      " 'secure_media': None,\n",
      " 'secure_media_embed': {},\n",
      " 'selftext': 'Welcome to another /r/learnPython weekly \"Ask Anything* Monday\" '\n",
      "             'thread\\n'\n",
      "             '\\n'\n",
      "             'Here you can ask all the questions that you wanted to ask but '\n",
      "             \"didn't feel like making a new thread.\\n\"\n",
      "             '\\n'\n",
      "             \"\\\\* It's primarily intended for simple questions but as long as \"\n",
      "             \"it's about python it's allowed.\\n\"\n",
      "             '\\n'\n",
      "             'If you have any suggestions or questions about this thread use '\n",
      "             'the message the moderators button in the sidebar.\\n'\n",
      "             '\\n'\n",
      "             '**Rules:**\\n'\n",
      "             '\\n'\n",
      "             \"* Don't downvote stuff - instead explain what's wrong with the \"\n",
      "             'comment, if it\\'s against the rules \"report\" it and it will be '\n",
      "             'dealt with.\\n'\n",
      "             '\\n'\n",
      "             \"* Don't post stuff that doesn't have absolutely anything to do \"\n",
      "             'with python. \\n'\n",
      "             '\\n'\n",
      "             \"* Don't make fun of someone for not knowing something, insult \"\n",
      "             'anyone etc - this will result in an immediate ban.\\n'\n",
      "             '\\n'\n",
      "             \"That's it.\\n\",\n",
      " 'selftext_html': '<!-- SC_OFF --><div class=\"md\"><p>Welcome to another <a '\n",
      "                  'href=\"/r/learnPython\">/r/learnPython</a> weekly &quot;Ask '\n",
      "                  'Anything* Monday&quot; thread</p>\\n'\n",
      "                  '\\n'\n",
      "                  '<p>Here you can ask all the questions that you wanted to '\n",
      "                  'ask but didn&#39;t feel like making a new thread.</p>\\n'\n",
      "                  '\\n'\n",
      "                  '<p>* It&#39;s primarily intended for simple questions but '\n",
      "                  'as long as it&#39;s about python it&#39;s allowed.</p>\\n'\n",
      "                  '\\n'\n",
      "                  '<p>If you have any suggestions or questions about this '\n",
      "                  'thread use the message the moderators button in the '\n",
      "                  'sidebar.</p>\\n'\n",
      "                  '\\n'\n",
      "                  '<p><strong>Rules:</strong></p>\\n'\n",
      "                  '\\n'\n",
      "                  '<ul>\\n'\n",
      "                  '<li><p>Don&#39;t downvote stuff - instead explain '\n",
      "                  'what&#39;s wrong with the comment, if it&#39;s against the '\n",
      "                  'rules &quot;report&quot; it and it will be dealt '\n",
      "                  'with.</p></li>\\n'\n",
      "                  '<li><p>Don&#39;t post stuff that doesn&#39;t have '\n",
      "                  'absolutely anything to do with python. </p></li>\\n'\n",
      "                  '<li><p>Don&#39;t make fun of someone for not knowing '\n",
      "                  'something, insult anyone etc - this will result in an '\n",
      "                  'immediate ban.</p></li>\\n'\n",
      "                  '</ul>\\n'\n",
      "                  '\\n'\n",
      "                  '<p>That&#39;s it.</p>\\n'\n",
      "                  '</div><!-- SC_ON -->',\n",
      " 'send_replies': False,\n",
      " 'spoiler': False,\n",
      " 'stickied': True,\n",
      " 'subreddit': Subreddit(display_name='learnpython'),\n",
      " 'subreddit_id': 't5_2r8ot',\n",
      " 'subreddit_name_prefixed': 'r/learnpython',\n",
      " 'subreddit_subscribers': 114587,\n",
      " 'subreddit_type': 'public',\n",
      " 'suggested_sort': 'new',\n",
      " 'thumbnail': '',\n",
      " 'title': 'Ask Anything Monday - Weekly Thread',\n",
      " 'ups': 9,\n",
      " 'url': 'https://www.reddit.com/r/learnpython/comments/874z5x/ask_anything_monday_weekly_thread/',\n",
      " 'user_reports': [],\n",
      " 'view_count': None,\n",
      " 'visited': False,\n",
      " 'whitelist_status': 'all_ads'}\n"
     ]
    }
   ],
   "source": [
    "import pprint\n",
    "for submission in reddit.subreddit('learnpython').hot(limit=1):\n",
    "    pprint.pprint(vars(submission))\n"
   ]
  },
  {
   "cell_type": "code",
   "execution_count": 13,
   "metadata": {
    "collapsed": true
   },
   "outputs": [],
   "source": [
    "import datetime\n",
    "time = datetime.datetime.fromtimestamp(1522052241.0)"
   ]
  },
  {
   "cell_type": "code",
   "execution_count": 22,
   "metadata": {},
   "outputs": [
    {
     "data": {
      "text/plain": [
       "datetime.datetime(2018, 3, 26, 4, 17, 21)"
      ]
     },
     "execution_count": 22,
     "metadata": {},
     "output_type": "execute_result"
    }
   ],
   "source": [
    "time"
   ]
  },
  {
   "cell_type": "code",
   "execution_count": 30,
   "metadata": {},
   "outputs": [
    {
     "name": "stdout",
     "output_type": "stream",
     "text": [
      "I put an iPhone 5S and a Galaxy S6 under a microscope to see their screens\n",
      "2017-01-24 14:23:59\n",
      "Galaxy S8 pictured next to iPhone 7 and Galaxy S7 Edge\n",
      "2017-03-20 09:35:50\n",
      "The Onion compares iPhone 6 and Samsung Galaxy S5\n",
      "2014-09-20 18:18:06\n",
      "Apple is worried Samsung won't make enough chips for the iPhone because the Galaxy S6 is suddenly doing better than expected\n",
      "2015-04-16 23:38:56\n",
      "Samsung Expected to Earn $4B More Making iPhone X Parts Than Galaxy S8 Parts\n",
      "2017-10-02 17:37:20\n",
      "32GB Pixel XL costs $278 to manufacture, on par with iPhone 7+/Galaxy S7 Edge\n",
      "2016-10-25 20:06:59\n",
      "Galaxy S3 beats iPhone 5 for best device of 2012\n",
      "2012-12-12 00:31:52\n",
      "MRW using an iPhone after having a Galaxy for so long\n",
      "2014-05-13 03:14:19\n",
      "iPhone 4s and Galaxy S II compared, both phones dropped on concrete\n",
      "2011-10-17 19:34:57\n",
      "IPhone 6 and Galaxy S6: Wi-Fi memory stick from SanDisk\n",
      "2015-07-17 16:07:27\n",
      "This guy is using an iPhone to prop up a Galaxy to watch Netflix out loud in a restaurant. I can only dream of giving this few fucks\n",
      "2014-04-21 23:27:07\n",
      "The Galaxy S7 and S7 Edge are outselling the iPhone 6s and 6s Plus in the U.S.\n",
      "2016-07-15 07:03:17\n",
      "Lately it seems that people don't know anything else exists other than Samsung Galaxy and iPhone\n",
      "2016-10-13 18:33:24\n",
      "132 page Document Authored by Samsung’s product Engineering Team Compares Galaxy with iPhone. Lists iPhone Features and Suggests How Galaxy Can Be More Like iPhone.\n",
      "2012-08-08 08:00:50\n",
      "Early benchmarks shows Samsung Galaxy S9 well behind iPhone X in processor performance\n",
      "2018-02-28 16:14:14\n",
      "Early benchmarks shows Samsung Galaxy S9 well behind iPhone X in processor performance\n",
      "2018-02-28 23:26:05\n",
      "The Galaxy Note 7 is miles ahead of the iPhone\n",
      "2016-08-13 19:28:18\n",
      "Apple iPhone X beats Samsung Galaxy Note 8 in benchmark comparison\n",
      "2017-11-15 19:04:19\n",
      "Sales of the galaxy SIII actually rose after the iphone 5 was revealed\n",
      "2012-10-28 04:05:04\n",
      "/u/FlyingTinOpener explains why the iPhone 6 Plus bends and the Galaxy Note 3 doesn't (hint: it's not because of aluminum)\n",
      "2014-09-25 12:14:18\n",
      "iPhone 5 and iPhone 4S each outsold the Galaxy S3 in Q4\n",
      "2013-02-20 18:07:09\n",
      "I have a chromecast, 3 rokus, 3 computers, 4 TVs, an iPad, an iPhone, a Galaxy S5, an xbox one with 12 games, a Wii with 16 games, a kindle, an internet connection, Amazon Prime, Netflix, Crackle, Hulu, 2,000+ M:TG cards, dozens of books, 2 DSLRs and basic cable. I'm bored.\n",
      "2015-02-17 00:20:00\n",
      "Galaxy Note 3 Bend Test (iPhone 6 Plus Follow-up)\n",
      "2014-09-25 00:52:30\n",
      "Samsung mocks iPhone 5 line sitters (again) in new Galaxy S III ad.\n",
      "2012-09-19 21:53:59\n",
      "Galaxy S3 and Note 2 beat iPhone 5 in customer satisfaction\n",
      "2013-08-01 15:40:12\n",
      "with the iPhone 7 and Galaxy S7 being waterproof\n",
      "2016-09-14 22:34:05\n",
      "Saw the iPhone X/Galaxy S6 comparison, fixed it in glorious San Francisco\n",
      "2017-09-18 03:25:08\n",
      "Galaxy S7 edge Nexus 6P iPhone 6S Plus Moto X Pure Speed Test\n",
      "2016-03-04 16:51:14\n",
      "Samsung Expected to Earn $4B More Making iPhone X Parts Than Galaxy S8 Parts\n",
      "2017-10-02 18:43:51\n",
      "Galaxy Note 7's loss is iPhone's gain. Almost 50% of CNET readers said they'll ditch their GN7 and get an iPhone in its place.\n",
      "2016-09-13 04:15:35\n",
      "S Korea Court bans iPhone 4, iPad, Samsung GalaxyS2, and others, claiming both companies infringed on each other's patents\n",
      "2012-08-24 16:24:30\n",
      "Apple’s ‘flop’ iPhone 5c outsold Galaxy S5 in its first month on sale in UK\n",
      "2014-07-03 00:15:26\n",
      "Samsung is back to bashing iPhone in new Galaxy S6 ads\n",
      "2015-06-05 08:20:55\n",
      "iPhone 7 vs. Galaxy Note 7 Speed Test\n",
      "2016-09-19 18:03:51\n",
      "Samsung's mobile profits plunge 64.2% after Apple's iPhone 6 devastates premium Galaxy sales\n",
      "2015-01-29 12:50:20\n",
      "Industry Standad DxOMark rates the M9 camera below iPhone 4S, Galaxy S3 and Amazon Firephone, and barely beating the M8\n",
      "2015-05-23 01:46:58\n",
      "Two coworkers asked me the other day if I had brought my \"fancy camera\" to work. I responded, \"Do your phones have flashlights?\" Shot with 2 iPhones and a Galaxy S4. 1 iPhone taking the shot and the other 2 for the lighting.\n",
      "2015-05-07 08:57:08\n",
      "Galaxy S III beats out iPhone 4S as top selling device in US\n",
      "2012-09-05 17:07:29\n",
      "Pixel XL vs iPhone 7 Plus vs Galaxy S7 Edge- Battery charging speed test\n",
      "2016-10-31 18:11:28\n",
      "Cnet on the iPhone 6 ad Galaxy Alpha... Major double standards.\n",
      "2014-09-17 17:46:49\n",
      "iPhone 4S vs Galaxy S II Drop Test\n",
      "2011-10-17 19:44:13\n",
      "True Dimensional comparison of the iPhone 4s, iPhone 5, and Galaxy S III screens\n",
      "2012-09-13 00:55:16\n",
      "Forbes Nexus 6P Review: Google Outshines Galaxy S6 And iPhone 6S\n",
      "2015-11-18 00:37:14\n",
      "My iPhone 6s+ and Galaxy Note 4 are so big that they've torn a hole in my jeans.\n",
      "2016-02-09 14:50:21\n",
      "Smartphone camera shootout: Galaxy S8 vs. iPhone 7, Google Pixel, and LG G6\n",
      "2017-04-27 15:36:20\n",
      "Samsung mocks iPhone X’s notch and lack of fingerprint sensor during Galaxy S9 conference\n",
      "2018-02-25 22:15:58\n",
      "iPhone vs. Galaxy Note (size comparison)... hilarious\n",
      "2011-11-08 04:06:18\n",
      "I left my phone charger at home, I have a Galaxy S3 and everyone else has an iPhone.\n",
      "2013-01-30 20:39:57\n",
      "Look at the size comparison of the new Samsung Galaxy Mega 6.3 vs iPhone. WTF!\n",
      "2013-04-11 19:12:59\n",
      "Galaxy S7 camera destroys iPhone 6S\n",
      "2016-02-23 07:17:13\n",
      "Study finds iPhone 5s and 5c touchscreens inaccurate compared to Galaxy SIII\n",
      "2013-10-25 15:56:59\n",
      "Samsung Galaxy S5 takes the ALS Ice Bucket Challenge, nominates iPhone, HTC One, & Nokia Lumia 930\n",
      "2014-08-22 17:40:27\n",
      "Samsung offers $2 Galaxy S II's to iPhone fans lining up at the Sydney Apple Store. \n",
      "2011-10-12 08:18:02\n",
      "iPhone X Beats Samsung Galaxy S9 in Benchmarking Tests\n",
      "2018-03-03 12:09:41\n",
      "Consumer Reports' scientific bend tests: HTC One, iPhone (5, 6, 6+), Galaxy Note 3 and LG G3\n",
      "2014-09-27 14:28:38\n",
      "Samsung celebrity tweets out support for Galaxy S4...from his iPhone\n",
      "2013-04-30 23:27:28\n",
      "Carved.com - Beautiful wood cases for iPhone, iPad, Galaxy S3, S4, S5 and Nexus 5 ($25-30)\n",
      "2014-04-29 00:31:27\n",
      "Samsung’s Galaxy Experience Program lets iPhone users test the Galaxy S8 and Note 8 for a month\n",
      "2017-11-21 13:28:40\n",
      "New Motorola Smartphone Leaves Galaxy S5 And iPhone 6 Outgunned\n",
      "2014-10-10 16:43:32\n",
      "Samsung Galaxy S9 vs. iPhone X: The best of metal and glass\n",
      "2018-02-25 20:18:02\n",
      "It's time to for me to get a new smartphone, but the new Galaxy Note might explode and the new iPhone has no headphone jack.\n",
      "2016-09-10 06:16:13\n",
      "Dual-core iPhone 6s obliterates Galaxy S6, Note 5 and other top Android phones in performance tests\n",
      "2015-09-24 01:06:26\n",
      "iPhone 6's vs Galaxy S5 performance benchmarks are in\n",
      "2014-09-20 15:44:56\n",
      "Drop test - iPhone 4S vs. Galaxy SII\n",
      "2011-10-18 00:01:07\n",
      "iPhone 6s benchmarks 49% higher than iPhone 6, edges out Galaxy S6 Edge in multicore performance\n",
      "2015-09-22 08:35:29\n",
      "Everyone keeps asking me if my Galaxy Note 2 is the new iPhone 6+\n",
      "2014-10-06 05:41:20\n",
      "Samsung Galaxy S4 Outsells iPhone 5\n",
      "2013-06-11 08:03:55\n",
      "This is just too hard to believe: iPhone 6 trumps Galaxy Note 5 in speed\n",
      "2015-08-26 03:54:13\n",
      "Switching from iPhone to my Galaxy S3 was the best decision I ever made because of this.\n",
      "2013-02-20 16:29:53\n",
      "Samsung’s Galaxy Experience Program lets iPhone users test the Galaxy Note 8 and S8 for a month\n",
      "2017-11-21 13:26:50\n",
      "Apple iPhone 7 camera vs. Samsung Galaxy S7: PHOTOS - Business Insider\n",
      "2016-09-16 23:13:30\n",
      "How I feel when I see an iPhone or Galaxy user cup their hands around the speaker so the people around them can hear the sound.\n",
      "2014-10-25 23:13:57\n",
      "Google Pixel 2 XL , Razer phone , LG v30 , galaxy note 8 , Galaxy s8+ , OnePlus 5T , iPhone X , battery draining test.\n",
      "2017-12-30 23:25:32\n",
      "All those shot on the iPhone or Galaxy commercials\n",
      "2017-06-20 21:13:52\n",
      "OnePlus 5 vs iPhone 7 Plus vs Galaxy S8 Camera Comparison by Krystal Key\n",
      "2017-07-02 23:12:35\n",
      "While everyone was complaining about the price of the iPhone X, did anyone notice the Galaxy Note 8 is $930?\n",
      "2017-09-16 08:20:04\n",
      "iPhone X vs Galaxy Note 8 vs iPhone 8 Plus- Battery Life Drain Test\n",
      "2017-11-04 16:38:55\n",
      "\"Real World\" speedtest- HTC M9 vs Galaxy 6 (w/ iphone6)\n",
      "2015-04-27 15:45:11\n",
      "Galaxy S6 Takes Better Photos than iPhone 6 Plus - Galaxy S6 Camera Takes Better Pictures Than iPhone 6 Plus\n",
      "2015-03-28 13:01:53\n",
      "Samsung's 'Smart Switch' Walks You Through Transferring Data from an iPhone to the Galaxy S6/S6 Edge\n",
      "2015-04-17 23:02:41\n",
      "[VIDEO] Samsung Galaxy S8 Plus vs iPhone 7 Plus - Battery Drain Test! (4K) S8 Plus crushes the iPhone\n",
      "2017-04-13 00:47:22\n",
      "iPhone 4S vs Galaxy Nexus Camera speed test\n",
      "2011-10-31 03:49:15\n",
      "New BF Deal: Free iPhone 7, Galaxy S7, V20; $200 Per Ported Line\n",
      "2016-11-22 20:07:59\n",
      "Camera shots taken with Nexus 5 comparing it to Nexus 4, HTC One, iPhone 5S, Lumia 1020, Galaxy S4, Note 3 and Xperia Z1\n",
      "2013-11-02 09:52:22\n",
      "Galaxy S3 beats iPhone 5 for best device of 2012\n",
      "2012-12-12 01:16:08\n",
      "Friend recently went from an iPhone 4 to a Samsung Galaxy SII and asked me what he could do with Android that he couldnt with iOS.\n",
      "2012-02-19 20:33:38\n",
      "these iphone and galaxy chargers\n",
      "2017-11-11 12:18:30\n",
      "New Samsung Galaxy S5 ad suggests iPhone users are \"wall huggers\"\n",
      "2014-07-03 21:07:52\n",
      "The iPhone X advertisement featuring the song \"Best Friend\"is beyond any advertisement I've ever seen. They did an OVER THE TOP job with this. If I had never seen an iPhone or Galaxy, and they showed me those ads, I would hands down pick the iPhone. Great job Apple.\n",
      "2017-09-13 01:33:23\n",
      "Photos taken with Lumia 930 beat iPhone 6 Plus and Galaxy Note 4 in blind test\n",
      "2015-03-28 21:29:41\n",
      "iPhone X vs Galaxy Note 8 speed/RAM test (video) - it's the iPhone that had to reload apps/games, Note 8 keeps all in memory\n",
      "2017-11-05 20:49:37\n",
      "Smartphone camera shootout: Galaxy S8 vs. iPhone 7, Google Pixel, and LG G6\n",
      "2017-04-26 20:31:11\n",
      "iPhone 6 Plus vs. Samsung Galaxy S5 | The Onion - America's Finest News Source\n",
      "2014-09-22 21:18:22\n",
      "Just switched from the iphone to the galaxy s4!\n",
      "2013-05-12 07:41:59\n",
      "Samsung Galaxy S6 wins blind camera test against iPhone 6 (the test was blind, not its sample or the cameras)\n",
      "2015-06-21 03:26:23\n",
      "Galaxy S7 vs S6 vs iPhone 6S: low light camera comparison\n",
      "2016-02-22 23:15:19\n",
      "[serious]People with expensive/flagship smartphones like latest iPhones/galaxy/pixels etc, do you really use the advanced features?\n",
      "2017-10-23 11:03:09\n",
      "I switched from iPhone to Galaxy s8!\n",
      "2017-09-16 11:10:39\n",
      "iPhone 6s Bests Samsung's New Galaxy Note 7 in App Speed Test\n",
      "2016-08-23 00:02:13\n",
      "PhoneBuff - iPhone 8 Plus vs Galaxy Note 8 Speed Test\n",
      "2017-09-28 05:01:22\n"
     ]
    }
   ],
   "source": [
    "for submission in reddit.subreddit('all').search('iphone galaxy', syntax=\"https://www.reddit.com/r/technology/search?sort=top&q=timestamp%1373932800..1474019200&restrict_sr=on&syntax=cloudsearch\"):\n",
    "    print(submission.title)\n",
    "    print(datetime.datetime.fromtimestamp(submission.created))"
   ]
  },
  {
   "cell_type": "code",
   "execution_count": 28,
   "metadata": {},
   "outputs": [
    {
     "data": {
      "text/plain": [
       "datetime.datetime(2013, 7, 5, 20, 0)"
      ]
     },
     "execution_count": 28,
     "metadata": {},
     "output_type": "execute_result"
    }
   ],
   "source": [
    "datetime.datetime.fromtimestamp(1373068800)"
   ]
  },
  {
   "cell_type": "code",
   "execution_count": 32,
   "metadata": {},
   "outputs": [
    {
     "data": {
      "text/plain": [
       "1475294400.0"
      ]
     },
     "execution_count": 32,
     "metadata": {},
     "output_type": "execute_result"
    }
   ],
   "source": [
    "import time\n",
    "import datetime\n",
    "d = datetime.date(2016,10,1)\n",
    "\n",
    "unixtime = time.mktime(d.timetuple())\n",
    "unixtime"
   ]
  },
  {
   "cell_type": "code",
   "execution_count": 19,
   "metadata": {},
   "outputs": [
    {
     "name": "stdout",
     "output_type": "stream",
     "text": [
      "iphonegalaxy\n",
      "iphonehtc\n",
      "iphonelg\n",
      "iphonepixel\n",
      "galaxyhtc\n",
      "galaxylg\n",
      "galaxypixel\n",
      "htclg\n",
      "htcpixel\n",
      "lgpixel\n"
     ]
    }
   ],
   "source": [
    "    phones=['iphone', 'galaxy', 'htc', 'lg', 'pixel']    \n",
    "    for phone1 in phones:\n",
    "        phones = [p for p in phones if p != phone1]\n",
    "#         phones.remove(phone1)\n",
    "        for phone2 in phones:\n",
    "            print(phone1 + phone2)"
   ]
  },
  {
   "cell_type": "code",
   "execution_count": 2,
   "metadata": {},
   "outputs": [
    {
     "ename": "ValueError",
     "evalue": "list.remove(x): x not in list",
     "output_type": "error",
     "traceback": [
      "\u001b[0;31m---------------------------------------------------------------------------\u001b[0m",
      "\u001b[0;31mValueError\u001b[0m                                Traceback (most recent call last)",
      "\u001b[0;32m<ipython-input-2-9a81b541da7b>\u001b[0m in \u001b[0;36m<module>\u001b[0;34m()\u001b[0m\n\u001b[0;32m----> 1\u001b[0;31m \u001b[0mphones\u001b[0m\u001b[0;34m.\u001b[0m\u001b[0mremove\u001b[0m\u001b[0;34m(\u001b[0m\u001b[0mphone1\u001b[0m\u001b[0;34m)\u001b[0m\u001b[0;34m\u001b[0m\u001b[0m\n\u001b[0m",
      "\u001b[0;31mValueError\u001b[0m: list.remove(x): x not in list"
     ]
    }
   ],
   "source": [
    "phones.remove(phone1)"
   ]
  },
  {
   "cell_type": "code",
   "execution_count": 12,
   "metadata": {},
   "outputs": [
    {
     "data": {
      "text/plain": [
       "[1, 2, 3, 4]"
      ]
     },
     "execution_count": 12,
     "metadata": {},
     "output_type": "execute_result"
    }
   ],
   "source": [
    "hi = [1,2,3,4]\n",
    "hi"
   ]
  },
  {
   "cell_type": "code",
   "execution_count": 13,
   "metadata": {
    "collapsed": true
   },
   "outputs": [],
   "source": [
    "hi = [p for p in hi if p != 1]\n"
   ]
  },
  {
   "cell_type": "code",
   "execution_count": 14,
   "metadata": {},
   "outputs": [
    {
     "data": {
      "text/plain": [
       "[2, 3, 4]"
      ]
     },
     "execution_count": 14,
     "metadata": {},
     "output_type": "execute_result"
    }
   ],
   "source": [
    "hi"
   ]
  },
  {
   "cell_type": "code",
   "execution_count": 22,
   "metadata": {},
   "outputs": [],
   "source": [
    "import itertools\n",
    "\n",
    "phones=['iphone', 'galaxy', 'htc', 'lg', 'pixel']\n",
    "\n",
    "phoness = list(itertools.combinations(phones, 2))"
   ]
  },
  {
   "cell_type": "code",
   "execution_count": 23,
   "metadata": {},
   "outputs": [
    {
     "data": {
      "text/plain": [
       "[('iphone', 'galaxy'),\n",
       " ('iphone', 'htc'),\n",
       " ('iphone', 'lg'),\n",
       " ('iphone', 'pixel'),\n",
       " ('galaxy', 'htc'),\n",
       " ('galaxy', 'lg'),\n",
       " ('galaxy', 'pixel'),\n",
       " ('htc', 'lg'),\n",
       " ('htc', 'pixel'),\n",
       " ('lg', 'pixel')]"
      ]
     },
     "execution_count": 23,
     "metadata": {},
     "output_type": "execute_result"
    }
   ],
   "source": [
    "phoness"
   ]
  },
  {
   "cell_type": "code",
   "execution_count": 24,
   "metadata": {},
   "outputs": [
    {
     "name": "stdout",
     "output_type": "stream",
     "text": [
      "iphonegalaxy\n",
      "iphonehtc\n",
      "iphonelg\n",
      "iphonepixel\n",
      "galaxyhtc\n",
      "galaxylg\n",
      "galaxypixel\n",
      "htclg\n",
      "htcpixel\n",
      "lgpixel\n"
     ]
    }
   ],
   "source": [
    "for phone1, phone2 in phoness:\n",
    "    print(phone1+phone2)"
   ]
  },
  {
   "cell_type": "code",
   "execution_count": 25,
   "metadata": {},
   "outputs": [
    {
     "name": "stdout",
     "output_type": "stream",
     "text": [
      "['p1=iphone, p2=galaxy ', 'p1=iphone, p2=htc ', 'p1=iphone, p2=lg ', 'p1=iphone, p2=pixel ', 'p1=galaxy, p2=htc ', 'p1=galaxy, p2=lg ', 'p1=galaxy, p2=pixel ', 'p1=htc, p2=lg ', 'p1=htc, p2=pixel ', 'p1=lg, p2=pixel ']\n"
     ]
    }
   ],
   "source": [
    "\n",
    "import itertools\n",
    "\n",
    "phones=['iphone', 'galaxy', 'htc', 'lg', 'pixel']\n",
    "\n",
    "combs = list(itertools.combinations(phones, 2))\n",
    "\n",
    "fullurl = url1 + phone1 + \"%20\" + phone2 + url2 + str(begin) + \"&end=\" + str(end) + \"&size=10000\"\n",
    "\n",
    "start_urls = [\"{0}{1}%20{2}{3}{4}&end={5}&size=10000\".format(url1, phone1, phone2, url2, str(begin), str(end)) for p1, p2 in combs]\n",
    "\n",
    "print(start_urls)"
   ]
  },
  {
   "cell_type": "code",
   "execution_count": null,
   "metadata": {
    "collapsed": true
   },
   "outputs": [],
   "source": []
  }
 ],
 "metadata": {
  "kernelspec": {
   "display_name": "Python 3",
   "language": "python",
   "name": "python3"
  },
  "language_info": {
   "codemirror_mode": {
    "name": "ipython",
    "version": 3
   },
   "file_extension": ".py",
   "mimetype": "text/x-python",
   "name": "python",
   "nbconvert_exporter": "python",
   "pygments_lexer": "ipython3",
   "version": "3.6.3"
  }
 },
 "nbformat": 4,
 "nbformat_minor": 2
}
