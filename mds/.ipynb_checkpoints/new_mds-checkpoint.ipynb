{
 "cells": [
  {
   "cell_type": "code",
   "execution_count": 1,
   "metadata": {},
   "outputs": [],
   "source": [
    "import numpy as np\n",
    "\n",
    "from matplotlib import pyplot as plt\n",
    "from matplotlib.collections import LineCollection\n",
    "\n",
    "from sklearn import manifold\n",
    "from sklearn.metrics import euclidean_distances\n",
    "from sklearn.decomposition import PCA\n",
    "import math\n",
    "\n",
    "%matplotlib inline\n",
    "plt.rc(\"savefig\", dpi=250)\n",
    "import ipywidgets as widgets\n",
    "import pandas as pd"
   ]
  },
  {
   "cell_type": "code",
   "execution_count": 2,
   "metadata": {},
   "outputs": [],
   "source": [
    "gtrends = pd.read_csv('monthly_google_trends.csv')\n"
   ]
  },
  {
   "cell_type": "markdown",
   "metadata": {},
   "source": [
    "## Google"
   ]
  },
  {
   "cell_type": "code",
   "execution_count": 3,
   "metadata": {},
   "outputs": [],
   "source": [
    "MAX_DISTANCE_g=326\n",
    "\n",
    "# read and transform the distance file\n",
    "# iphone, galaxy, htc, lg, pixel\n",
    "distances_g=[]\n",
    "with open('monthly_google_trends.csv', 'r') as f:\n",
    "    next(f)\n",
    "    for line in f:\n",
    "        e=line.strip().split(',')\n",
    "        mm=np.matrix([list(map(int,[MAX_DISTANCE_g,e[1],e[2],e[3],e[4]])),\n",
    "                     list(map(int,[e[1],MAX_DISTANCE_g,e[5],e[6],e[7]])),\n",
    "                     list(map(int,[e[2],e[5],MAX_DISTANCE_g,e[8],e[9]])),\n",
    "                     list(map(int,[e[3],e[6],e[8],MAX_DISTANCE_g,e[10]])),\n",
    "                     list(map(int,[e[4],e[7],e[9],e[10],MAX_DISTANCE_g]))])\n",
    "        m=MAX_DISTANCE_g-mm\n",
    "        d=np.asarray(m)\n",
    "        distances_g.append(d)\n",
    "\n",
    "iphone_g, galaxy_g, htc_g, lg_g, pixel_g = [],[],[],[],[]\n",
    "\n",
    "for i in range(len(distances_g)):\n",
    "    mds = manifold.MDS(n_components=2, max_iter=3000, eps=1e-9, random_state=4,\n",
    "                   dissimilarity=\"precomputed\", n_jobs=1)\n",
    "    pos=mds.fit(distances_g[i]).embedding_\n",
    "    iphone_g.append(pos[0])\n",
    "    galaxy_g.append(pos[1])\n",
    "    htc_g.append(pos[2])\n",
    "    lg_g.append(pos[3])\n",
    "    pixel_g.append(pos[4])"
   ]
  },
  {
   "cell_type": "code",
   "execution_count": 4,
   "metadata": {},
   "outputs": [],
   "source": [
    "def cart2pol(x, y):\n",
    "    rho = np.sqrt(x**2 + y**2)\n",
    "    phi = np.arctan2(y, x)\n",
    "    degree = phi*180/math.pi\n",
    "    return(rho, degree)\n",
    "def pol2cart(rho, degree):\n",
    "    phi = degree*math.pi/180\n",
    "    x = rho * np.cos(phi)\n",
    "    y = rho * np.sin(phi)\n",
    "    return(x, y)"
   ]
  },
  {
   "cell_type": "code",
   "execution_count": 5,
   "metadata": {},
   "outputs": [
    {
     "name": "stdout",
     "output_type": "stream",
     "text": [
      "(1.4142135623730951, 45.0)\n",
      "(0.999999602342171, 0.9999996023421708)\n"
     ]
    }
   ],
   "source": [
    "print(cart2pol(1,1))\n",
    "print(pol2cart(1.414213, 45))\n"
   ]
  },
  {
   "cell_type": "code",
   "execution_count": 6,
   "metadata": {},
   "outputs": [],
   "source": [
    "full_coor = zip(iphone_g,galaxy_g,htc_g,lg_g,pixel_g)"
   ]
  },
  {
   "cell_type": "code",
   "execution_count": 7,
   "metadata": {},
   "outputs": [],
   "source": [
    "iphone_g, galaxy_g, htc_g, lg_g, pixel_g = [],[],[],[],[]\n",
    "for i,g,h,l,p in full_coor:\n",
    "    x=i[0],\n",
    "    y=i[1],\n",
    "    g_x=g[0]-x\n",
    "    g_y=g[1]-y\n",
    "    h_x=h[0]-x\n",
    "    h_y=h[1]-y\n",
    "    l_x=l[0]-x\n",
    "    l_y=l[1]-y\n",
    "    p_x=p[0]-x\n",
    "    p_y=p[1]-y\n",
    "    theta=cart2pol(p_x,p_y)[1]\n",
    "    gn=pol2cart(cart2pol(g_x,g_y)[0],(cart2pol(g_x,g_y)[1]-theta))\n",
    "    hn=pol2cart(cart2pol(h_x,h_y)[0],(cart2pol(h_x,h_y)[1]-theta))\n",
    "    ln=pol2cart(cart2pol(l_x,l_y)[0],(cart2pol(l_x,l_y)[1]-theta))\n",
    "    pn=pol2cart(cart2pol(p_x,p_y)[0],(cart2pol(p_x,p_y)[1]-theta))\n",
    "    iphone_g.append((0,0))\n",
    "    galaxy_g.append(gn)\n",
    "    htc_g.append(hn)\n",
    "    lg_g.append(ln)\n",
    "    pixel_g.append(pn)"
   ]
  },
  {
   "cell_type": "code",
   "execution_count": 8,
   "metadata": {
    "scrolled": false
   },
   "outputs": [
    {
     "data": {
      "application/vnd.jupyter.widget-view+json": {
       "model_id": "9f80fbb4a0e04f60bdc6fc6d84e2c273",
       "version_major": 2,
       "version_minor": 0
      },
      "text/plain": [
       "interactive(children=(IntSlider(value=9, description='y', max=17, min=1), Output()), _dom_classes=('widget-int…"
      ]
     },
     "metadata": {},
     "output_type": "display_data"
    },
    {
     "data": {
      "text/plain": [
       "<function __main__.stepwise_fig_g(y)>"
      ]
     },
     "execution_count": 8,
     "metadata": {},
     "output_type": "execute_result"
    }
   ],
   "source": [
    "def stepwise_fig_g(y):\n",
    "    plt.figure()\n",
    "    plt.plot([x[0] for x in iphone_g[:y]],[x[1] for x in iphone_g[:y]], lw=0.3, color='silver', ls='dashed')\n",
    "    plt.scatter([x[0] for x in iphone_g[:y]],[x[1] for x in iphone_g[:y]], s=10,color='silver',label=\"iPhone\")\n",
    "    plt.scatter(iphone_g[y-1][0],iphone_g[y-1][1],s=40,color='silver',marker='p')\n",
    "    plt.plot([x[0] for x in galaxy_g[:y]],[x[1] for x in galaxy_g[:y]], lw=0.3,color='salmon', ls='dashed')\n",
    "    plt.scatter([x[0] for x in galaxy_g[:y]],[x[1] for x in galaxy_g[:y]], s=10,color='salmon',label=\"Galaxy\")\n",
    "    plt.scatter(galaxy_g[y-1][0],galaxy_g[y-1][1],s=40,color='salmon',marker='p')\n",
    "    plt.plot([x[0] for x in htc_g[:y]],[x[1] for x in htc_g[:y]], lw=0.3,color='c', ls='dashed')\n",
    "    plt.scatter([x[0] for x in htc_g[:y]],[x[1] for x in htc_g[:y]], s=10,color='c',label=\"HTC\")\n",
    "    plt.scatter(htc_g[y-1][0],htc_g[y-1][1],s=40,color='c',marker='p')\n",
    "    plt.plot([x[0] for x in lg_g[:y]],[x[1] for x in lg_g[:y]], lw=0.3, color='wheat', ls='dashed')\n",
    "    plt.scatter([x[0] for x in lg_g[:y]],[x[1] for x in lg_g[:y]], s=10,color='wheat',label=\"lg\")\n",
    "    plt.scatter(lg_g[y-1][0],lg_g[y-1][1],s=40,color='wheat',marker='p')\n",
    "    plt.plot([x[0] for x in pixel_g[:y]],[x[1] for x in pixel_g[:y]], lw=0.3,color='orchid', ls='dashed')\n",
    "    plt.scatter([x[0] for x in pixel_g[:y]],[x[1] for x in pixel_g[:y]], s=10,color='orchid',label=\"Pixel\")\n",
    "    plt.scatter(pixel_g[y-1][0],pixel_g[y-1][1],s=40,color='orchid',marker='p')   \n",
    "    plt.xlim(-100,350)\n",
    "    plt.ylim(-100,300)\n",
    "    plt.legend(frameon=False,fontsize='x-small')\n",
    "    plt.title('Data from Google')\n",
    "    \n",
    "widgets.interact(stepwise_fig_g,y=(1,17,1))"
   ]
  },
  {
   "cell_type": "markdown",
   "metadata": {},
   "source": [
    "## YouTube"
   ]
  },
  {
   "cell_type": "code",
   "execution_count": 10,
   "metadata": {
    "scrolled": false
   },
   "outputs": [
    {
     "data": {
      "application/vnd.jupyter.widget-view+json": {
       "model_id": "799eed7f89d244869ddfb9a0875f49c4",
       "version_major": 2,
       "version_minor": 0
      },
      "text/plain": [
       "interactive(children=(IntSlider(value=9, description='y', max=17, min=1), Output()), _dom_classes=('widget-int…"
      ]
     },
     "metadata": {},
     "output_type": "display_data"
    },
    {
     "data": {
      "text/plain": [
       "<function __main__.stepwise_fig_g(y)>"
      ]
     },
     "execution_count": 10,
     "metadata": {},
     "output_type": "execute_result"
    }
   ],
   "source": [
    "MAX_DISTANCE=573\n",
    "\n",
    "# read and transform the distance file\n",
    "# iphone, galaxy, htc, lg, pixel\n",
    "distances_g=[]\n",
    "with open('monthly_youtube.csv', 'r') as f:\n",
    "    next(f)\n",
    "    for line in f:\n",
    "        e=line.strip().split(',')\n",
    "        m=np.matrix([list(map(int,[MAX_DISTANCE,e[1],e[2],e[3],e[4]])),\n",
    "                     list(map(int,[e[1],MAX_DISTANCE,e[5],e[6],e[7]])),\n",
    "                     list(map(int,[e[2],e[5],MAX_DISTANCE,e[8],e[9]])),\n",
    "                     list(map(int,[e[3],e[6],e[8],MAX_DISTANCE,e[10]])),\n",
    "                     list(map(int,[e[4],e[7],e[9],e[10],MAX_DISTANCE]))])\n",
    "        m=MAX_DISTANCE-m\n",
    "        d=np.asarray(m)\n",
    "        distances_g.append(d)\n",
    "\n",
    "iphone_g, galaxy_g, htc_g, lg_g, pixel_g = [],[],[],[],[]\n",
    "\n",
    "for i in range(len(distances_g)):\n",
    "    mds = manifold.MDS(n_components=2, max_iter=3000, eps=1e-9, random_state=4,\n",
    "                   dissimilarity=\"precomputed\", n_jobs=1)\n",
    "    pos=mds.fit(distances_g[i]).embedding_\n",
    "    iphone_g.append(pos[0])\n",
    "    galaxy_g.append(pos[1])\n",
    "    htc_g.append(pos[2])\n",
    "    lg_g.append(pos[3])\n",
    "    pixel_g.append(pos[4])\n",
    "    \n",
    "full_coor = zip(iphone_g,galaxy_g,htc_g,lg_g,pixel_g)\n",
    "iphone_g, galaxy_g, htc_g, lg_g, pixel_g = [],[],[],[],[]\n",
    "for i,g,h,l,p in full_coor:\n",
    "    x=i[0],\n",
    "    y=i[1],\n",
    "    g_x=g[0]-x\n",
    "    g_y=g[1]-y\n",
    "    h_x=h[0]-x\n",
    "    h_y=h[1]-y\n",
    "    l_x=l[0]-x\n",
    "    l_y=l[1]-y\n",
    "    p_x=p[0]-x\n",
    "    p_y=p[1]-y\n",
    "    theta=cart2pol(p_x,p_y)[1]\n",
    "    gn=pol2cart(cart2pol(g_x,g_y)[0],(cart2pol(g_x,g_y)[1]-theta))\n",
    "    hn=pol2cart(cart2pol(h_x,h_y)[0],(cart2pol(h_x,h_y)[1]-theta))\n",
    "    ln=pol2cart(cart2pol(l_x,l_y)[0],(cart2pol(l_x,l_y)[1]-theta))\n",
    "    pn=pol2cart(cart2pol(p_x,p_y)[0],(cart2pol(p_x,p_y)[1]-theta))\n",
    "    iphone_g.append((0,0))\n",
    "    galaxy_g.append(gn)\n",
    "    htc_g.append(hn)\n",
    "    lg_g.append(ln)\n",
    "    pixel_g.append(pn)\n",
    "def stepwise_fig_g(y):\n",
    "    plt.figure()\n",
    "    plt.plot([x[0] for x in iphone_g[:y]],[x[1] for x in iphone_g[:y]], lw=0.3, color='silver', ls='dashed')\n",
    "    plt.scatter([x[0] for x in iphone_g[:y]],[x[1] for x in iphone_g[:y]], s=10,color='silver',label=\"iPhone\")\n",
    "    plt.scatter(iphone_g[y-1][0],iphone_g[y-1][1],s=40,color='silver',marker='p')\n",
    "    plt.plot([x[0] for x in galaxy_g[:y]],[x[1] for x in galaxy_g[:y]], lw=0.3,color='salmon', ls='dashed')\n",
    "    plt.scatter([x[0] for x in galaxy_g[:y]],[x[1] for x in galaxy_g[:y]], s=10,color='salmon',label=\"Galaxy\")\n",
    "    plt.scatter(galaxy_g[y-1][0],galaxy_g[y-1][1],s=40,color='salmon',marker='p')\n",
    "    plt.plot([x[0] for x in htc_g[:y]],[x[1] for x in htc_g[:y]], lw=0.3,color='c', ls='dashed')\n",
    "    plt.scatter([x[0] for x in htc_g[:y]],[x[1] for x in htc_g[:y]], s=10,color='c',label=\"HTC\")\n",
    "    plt.scatter(htc_g[y-1][0],htc_g[y-1][1],s=40,color='c',marker='p')\n",
    "    plt.plot([x[0] for x in lg_g[:y]],[x[1] for x in lg_g[:y]], lw=0.3, color='wheat', ls='dashed')\n",
    "    plt.scatter([x[0] for x in lg_g[:y]],[x[1] for x in lg_g[:y]], s=10,color='wheat',label=\"lg\")\n",
    "    plt.scatter(lg_g[y-1][0],lg_g[y-1][1],s=40,color='wheat',marker='p')\n",
    "    plt.plot([x[0] for x in pixel_g[:y]],[x[1] for x in pixel_g[:y]], lw=0.3,color='orchid', ls='dashed')\n",
    "    plt.scatter([x[0] for x in pixel_g[:y]],[x[1] for x in pixel_g[:y]], s=10,color='orchid',label=\"Pixel\")\n",
    "    plt.scatter(pixel_g[y-1][0],pixel_g[y-1][1],s=40,color='orchid',marker='p')   \n",
    "    plt.xlim(-400,600)\n",
    "    plt.ylim(-600,800)\n",
    "    plt.legend(frameon=False,fontsize='x-small')\n",
    "    plt.title('Data from Youtube')\n",
    "    \n",
    "widgets.interact(stepwise_fig_g,y=(1,17,1))"
   ]
  },
  {
   "cell_type": "markdown",
   "metadata": {},
   "source": [
    "## Reddit"
   ]
  },
  {
   "cell_type": "code",
   "execution_count": 11,
   "metadata": {},
   "outputs": [
    {
     "data": {
      "application/vnd.jupyter.widget-view+json": {
       "model_id": "998982266dd148619f03fd4760066afa",
       "version_major": 2,
       "version_minor": 0
      },
      "text/plain": [
       "interactive(children=(IntSlider(value=9, description='y', max=17, min=1), Output()), _dom_classes=('widget-int…"
      ]
     },
     "metadata": {},
     "output_type": "display_data"
    },
    {
     "data": {
      "text/plain": [
       "<function __main__.stepwise_fig_g(y)>"
      ]
     },
     "execution_count": 11,
     "metadata": {},
     "output_type": "execute_result"
    }
   ],
   "source": [
    "# read and transform the distance file\n",
    "# iphone, galaxy, htc, lg, pixel\n",
    "MAX_DISTANCE=2691\n",
    "\n",
    "# read and transform the distance file\n",
    "# iphone, galaxy, htc, lg, pixel\n",
    "distances_g=[]\n",
    "with open('monthly_youtube.csv', 'r') as f:\n",
    "    next(f)\n",
    "    for line in f:\n",
    "        e=line.strip().split(',')\n",
    "        m=np.matrix([list(map(int,[MAX_DISTANCE,e[1],e[2],e[3],e[4]])),\n",
    "                     list(map(int,[e[1],MAX_DISTANCE,e[5],e[6],e[7]])),\n",
    "                     list(map(int,[e[2],e[5],MAX_DISTANCE,e[8],e[9]])),\n",
    "                     list(map(int,[e[3],e[6],e[8],MAX_DISTANCE,e[10]])),\n",
    "                     list(map(int,[e[4],e[7],e[9],e[10],MAX_DISTANCE]))])\n",
    "        m=MAX_DISTANCE-m\n",
    "        d=np.asarray(m)\n",
    "        distances_g.append(d)\n",
    "\n",
    "iphone_g, galaxy_g, htc_g, lg_g, pixel_g = [],[],[],[],[]\n",
    "\n",
    "for i in range(len(distances_g)):\n",
    "    mds = manifold.MDS(n_components=2, max_iter=3000, eps=1e-9, random_state=4,\n",
    "                   dissimilarity=\"precomputed\", n_jobs=1)\n",
    "    pos=mds.fit(distances_g[i]).embedding_\n",
    "    iphone_g.append(pos[0])\n",
    "    galaxy_g.append(pos[1])\n",
    "    htc_g.append(pos[2])\n",
    "    lg_g.append(pos[3])\n",
    "    pixel_g.append(pos[4])\n",
    "    \n",
    "full_coor = zip(iphone_g,galaxy_g,htc_g,lg_g,pixel_g)\n",
    "iphone_g, galaxy_g, htc_g, lg_g, pixel_g = [],[],[],[],[]\n",
    "for i,g,h,l,p in full_coor:\n",
    "    x=i[0],\n",
    "    y=i[1],\n",
    "    g_x=g[0]-x\n",
    "    g_y=g[1]-y\n",
    "    h_x=h[0]-x\n",
    "    h_y=h[1]-y\n",
    "    l_x=l[0]-x\n",
    "    l_y=l[1]-y\n",
    "    p_x=p[0]-x\n",
    "    p_y=p[1]-y\n",
    "    theta=cart2pol(p_x,p_y)[1]\n",
    "    gn=pol2cart(cart2pol(g_x,g_y)[0],(cart2pol(g_x,g_y)[1]-theta))\n",
    "    hn=pol2cart(cart2pol(h_x,h_y)[0],(cart2pol(h_x,h_y)[1]-theta))\n",
    "    ln=pol2cart(cart2pol(l_x,l_y)[0],(cart2pol(l_x,l_y)[1]-theta))\n",
    "    pn=pol2cart(cart2pol(p_x,p_y)[0],(cart2pol(p_x,p_y)[1]-theta))\n",
    "    iphone_g.append((0,0))\n",
    "    galaxy_g.append(gn)\n",
    "    htc_g.append(hn)\n",
    "    lg_g.append(ln)\n",
    "    pixel_g.append(pn)\n",
    "def stepwise_fig_g(y):\n",
    "    plt.figure()\n",
    "    plt.plot([x[0] for x in iphone_g[:y]],[x[1] for x in iphone_g[:y]], lw=0.3, color='silver', ls='dashed')\n",
    "    plt.scatter([x[0] for x in iphone_g[:y]],[x[1] for x in iphone_g[:y]], s=10,color='silver',label=\"iPhone\")\n",
    "    plt.scatter(iphone_g[y-1][0],iphone_g[y-1][1],s=40,color='silver',marker='p')\n",
    "    plt.plot([x[0] for x in galaxy_g[:y]],[x[1] for x in galaxy_g[:y]], lw=0.3,color='salmon', ls='dashed')\n",
    "    plt.scatter([x[0] for x in galaxy_g[:y]],[x[1] for x in galaxy_g[:y]], s=10,color='salmon',label=\"Galaxy\")\n",
    "    plt.scatter(galaxy_g[y-1][0],galaxy_g[y-1][1],s=40,color='salmon',marker='p')\n",
    "    plt.plot([x[0] for x in htc_g[:y]],[x[1] for x in htc_g[:y]], lw=0.3,color='c', ls='dashed')\n",
    "    plt.scatter([x[0] for x in htc_g[:y]],[x[1] for x in htc_g[:y]], s=10,color='c',label=\"HTC\")\n",
    "    plt.scatter(htc_g[y-1][0],htc_g[y-1][1],s=40,color='c',marker='p')\n",
    "    plt.plot([x[0] for x in lg_g[:y]],[x[1] for x in lg_g[:y]], lw=0.3, color='wheat', ls='dashed')\n",
    "    plt.scatter([x[0] for x in lg_g[:y]],[x[1] for x in lg_g[:y]], s=10,color='wheat',label=\"lg\")\n",
    "    plt.scatter(lg_g[y-1][0],lg_g[y-1][1],s=40,color='wheat',marker='p')\n",
    "    plt.plot([x[0] for x in pixel_g[:y]],[x[1] for x in pixel_g[:y]], lw=0.3,color='orchid', ls='dashed')\n",
    "    plt.scatter([x[0] for x in pixel_g[:y]],[x[1] for x in pixel_g[:y]], s=10,color='orchid',label=\"Pixel\")\n",
    "    plt.scatter(pixel_g[y-1][0],pixel_g[y-1][1],s=40,color='orchid',marker='p')   \n",
    "    plt.xlim(-1500,4000)\n",
    "    plt.ylim(-2000,3000)\n",
    "    plt.legend(frameon=False,fontsize='x-small')\n",
    "    plt.title('Data from Reddit')\n",
    "    \n",
    "widgets.interact(stepwise_fig_g,y=(1,17,1))"
   ]
  },
  {
   "cell_type": "code",
   "execution_count": null,
   "metadata": {
    "collapsed": true
   },
   "outputs": [],
   "source": []
  }
 ],
 "metadata": {
  "kernelspec": {
   "display_name": "Python 3",
   "language": "python",
   "name": "python3"
  },
  "language_info": {
   "codemirror_mode": {
    "name": "ipython",
    "version": 3
   },
   "file_extension": ".py",
   "mimetype": "text/x-python",
   "name": "python",
   "nbconvert_exporter": "python",
   "pygments_lexer": "ipython3",
   "version": "3.6.6"
  }
 },
 "nbformat": 4,
 "nbformat_minor": 2
}
